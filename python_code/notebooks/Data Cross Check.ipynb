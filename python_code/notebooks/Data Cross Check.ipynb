{
 "cells": [
  {
   "cell_type": "markdown",
   "id": "ad989ea6-3c7a-42a9-b99e-d80d0ae026e6",
   "metadata": {},
   "source": [
    "## DATA CROSS CHECK "
   ]
  },
  {
   "cell_type": "code",
   "execution_count": 1,
   "id": "3b397c79-7221-474c-b2c4-e82132b93bc7",
   "metadata": {
    "scrolled": true
   },
   "outputs": [
    {
     "name": "stdout",
     "output_type": "stream",
     "text": [
      "\n",
      "Checking data quality for: 20250715\n",
      "\n",
      "Segment: EXP\n",
      "  ✅ No missing ManagerID in MergedTrade20250715.csv\n",
      "\n",
      "Segment: ALL\n",
      "  ✅ No missing ManagerID in MergedTrade20250715.csv\n",
      "\n",
      "Segment: NFT\n",
      "  ✅ No missing ManagerID in MergedTrade20250715.csv\n",
      "\n",
      "Segment: MCX\n",
      "  ✅ No missing ManagerID in Trade20250715.csv\n"
     ]
    }
   ],
   "source": [
    "import os\n",
    "import pandas as pd\n",
    "from datetime import datetime\n",
    "\n",
    "# --- Configurations ---\n",
    "DATA_PATHS = {\n",
    "    'EXP': r'E:\\DATA\\2025-2026\\MERGE_TRADEBOOK\\MERGE_EXP',\n",
    "    'ALL': r'E:\\DATA\\2025-2026\\MERGE_TRADEBOOK\\MERGE_SENSEX',\n",
    "    'NFT': r'E:\\DATA\\2025-2026\\MERGE_TRADEBOOK\\MERGE_IFSC_NIFTY',\n",
    "    'MCX': r'E:\\DATA\\2025-2026\\TRADEBOOK\\MCX'\n",
    "}\n",
    "\n",
    "FILENAME_PATTERNS = {\n",
    "    'EXP': 'MergedTrade{date}.csv',\n",
    "    'ALL': 'MergedTrade{date}.csv',\n",
    "    'NFT': 'MergedTrade{date}.csv',\n",
    "    'MCX': 'Trade{date}.csv'\n",
    "}\n",
    "\n",
    "def validate_manager_id_for_date(date_str):\n",
    "    print(f\"\\nChecking data quality for: {date_str}\")\n",
    "\n",
    "    for segment, folder in DATA_PATHS.items():\n",
    "        filename = FILENAME_PATTERNS[segment].format(date=date_str)\n",
    "        file_path = os.path.join(folder, filename)\n",
    "\n",
    "        print(f\"\\nSegment: {segment}\")\n",
    "        if not os.path.exists(file_path):\n",
    "            print(f\"  ❌ File not found: {file_path}\")\n",
    "            continue\n",
    "\n",
    "        try:\n",
    "            df = pd.read_csv(file_path, dtype=str)\n",
    "        except Exception as e:\n",
    "            print(f\"  ❌ Failed to read {file_path}: {e}\")\n",
    "            continue\n",
    "\n",
    "        if 'ManagerID' not in df.columns:\n",
    "            print(f\"  ❌ 'ManagerID' column is missing in {filename}\")\n",
    "            continue\n",
    "\n",
    "        # Check for missing or blank ManagerID\n",
    "        missing = df['ManagerID'].isna() | (df['ManagerID'].str.strip() == '')\n",
    "\n",
    "        if missing.any():\n",
    "            print(f\"  ⚠️  Found {missing.sum()} rows with missing ManagerID in {filename}\")\n",
    "            print(df.loc[missing, ['UserID', 'OrderID', 'ManagerID']])\n",
    "        else:\n",
    "            print(f\"  ✅ No missing ManagerID in {filename}\")\n",
    "\n",
    "if __name__ == \"__main__\":\n",
    "    # Default to today's date or use a specific one (format: YYYYMMDD)\n",
    "    today_str = datetime.now().strftime('%Y%m%d')\n",
    "\n",
    "    # Or override with specific date like:\n",
    "    # today_str = '20250714'\n",
    "\n",
    "    validate_manager_id_for_date(today_str)\n"
   ]
  },
  {
   "cell_type": "code",
   "execution_count": null,
   "id": "61e54a62-6b6f-4e3c-a292-be152e5ef655",
   "metadata": {},
   "outputs": [],
   "source": []
  }
 ],
 "metadata": {
  "kernelspec": {
   "display_name": "Python 3 (ipykernel)",
   "language": "python",
   "name": "python3"
  },
  "language_info": {
   "codemirror_mode": {
    "name": "ipython",
    "version": 3
   },
   "file_extension": ".py",
   "mimetype": "text/x-python",
   "name": "python",
   "nbconvert_exporter": "python",
   "pygments_lexer": "ipython3",
   "version": "3.12.7"
  }
 },
 "nbformat": 4,
 "nbformat_minor": 5
}
