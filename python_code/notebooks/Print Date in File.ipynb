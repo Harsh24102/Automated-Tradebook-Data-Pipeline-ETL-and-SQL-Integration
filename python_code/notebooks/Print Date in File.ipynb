{
 "cells": [
  {
   "cell_type": "code",
   "execution_count": null,
   "id": "a19c0691-2961-4ccb-a9d0-d24ede8d6d89",
   "metadata": {},
   "outputs": [],
   "source": [
    "import os\n",
    "import pandas as pd\n",
    "\n",
    "def process_csv_files(folder_path):\n",
    "    # Loop through all files in the folder\n",
    "    for root, dirs, files in os.walk(folder_path):\n",
    "        for file in files:\n",
    "            if file.endswith('.csv'):\n",
    "                # Extract the date from the filename (remove the .csv extension)\n",
    "                date_value = file[:-4]  # e.g., '01042024'\n",
    "                \n",
    "                # Convert to datetime using the correct format (DDMMYYYY)\n",
    "                formatted_date = pd.to_datetime(date_value, format='%d%m%Y').strftime('%d-%m-%Y')\n",
    "                \n",
    "                file_path = os.path.join(root, file)\n",
    "\n",
    "                # Read the CSV file, skipping the first two rows\n",
    "                df = pd.read_csv(file_path, skiprows=2)\n",
    "                \n",
    "                # Add the TradeDate column with the formatted date\n",
    "                df['TradeDate'] = formatted_date\n",
    "                \n",
    "                # Save the modified DataFrame back to the same file\n",
    "                df.to_csv(file_path, index=False)\n",
    "\n",
    "# Specify the path to your main folder\n",
    "main_folder = r'F:\\DATA TEAM\\temper'  # or use forward slashes\n",
    "process_csv_files(main_folder)\n"
   ]
  }
 ],
 "metadata": {
  "kernelspec": {
   "display_name": "Python 3 (ipykernel)",
   "language": "python",
   "name": "python3"
  },
  "language_info": {
   "codemirror_mode": {
    "name": "ipython",
    "version": 3
   },
   "file_extension": ".py",
   "mimetype": "text/x-python",
   "name": "python",
   "nbconvert_exporter": "python",
   "pygments_lexer": "ipython3",
   "version": "3.12.4"
  }
 },
 "nbformat": 4,
 "nbformat_minor": 5
}
