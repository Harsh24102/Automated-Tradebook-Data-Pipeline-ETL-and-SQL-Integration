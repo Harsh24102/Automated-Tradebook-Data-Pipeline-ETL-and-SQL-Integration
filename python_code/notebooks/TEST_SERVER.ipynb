{
 "cells": [
  {
   "cell_type": "code",
   "execution_count": 3,
   "id": "1b665752-1f74-43bc-a4bb-c487dad33f17",
   "metadata": {
    "scrolled": true
   },
   "outputs": [
    {
     "name": "stdout",
     "output_type": "stream",
     "text": [
      "Copied: Trade20250618.csv\n",
      "Copied: Trade20250619.csv\n",
      "Copied: Trade20250620.csv\n",
      "Skipped weekend: 2025-06-21\n",
      "Skipped weekend: 2025-06-22\n",
      "Copied: Trade20250623.csv\n",
      "Copied: Trade20250624.csv\n"
     ]
    }
   ],
   "source": [
    "import os\n",
    "import shutil\n",
    "from datetime import datetime, timedelta\n",
    "\n",
    "# Configuration\n",
    "source_dir = r\"\\\\172.16.4.13\\d$\\LIVE RISK ADMIN\\PAIR-SERVER\\TEST-SERVER\\CSV\\TradeBook\"\n",
    "destination_dir = r\"E:\\DATA\\2025-2026\\TEST SERVER TRADEBOOK\"\n",
    "\n",
    "# Simple logging function (prints only)\n",
    "def log(message):\n",
    "    print(message)\n",
    "\n",
    "# Date range\n",
    "start_date = datetime(2025, 6, 18)\n",
    "end_date = datetime.today()\n",
    "\n",
    "# Loop through dates and copy files\n",
    "current_date = start_date\n",
    "while current_date <= end_date:\n",
    "    # Skip weekends\n",
    "    if current_date.weekday() in (5, 6):\n",
    "        log(f\"Skipped weekend: {current_date.strftime('%Y-%m-%d')}\")\n",
    "        current_date += timedelta(days=1)\n",
    "        continue\n",
    "\n",
    "    file_name = f\"Trade{current_date.strftime('%Y%m%d')}.csv\"\n",
    "    src_file_path = os.path.join(source_dir, file_name)\n",
    "    dst_file_path = os.path.join(destination_dir, file_name)\n",
    "\n",
    "    if os.path.exists(src_file_path):\n",
    "        if os.path.exists(dst_file_path):\n",
    "            if os.path.getsize(dst_file_path) > 0:\n",
    "                log(f\"Skipped (already exists and not empty): {file_name}\")\n",
    "            else:\n",
    "                try:\n",
    "                    shutil.copy2(src_file_path, dst_file_path)\n",
    "                    log(f\"Replaced 0 KB file: {file_name}\")\n",
    "                except Exception as e:\n",
    "                    log(f\"Error replacing file {file_name}: {e}\")\n",
    "        else:\n",
    "            try:\n",
    "                shutil.copy2(src_file_path, dst_file_path)\n",
    "                log(f\"Copied: {file_name}\")\n",
    "            except Exception as e:\n",
    "                log(f\"Error copying file {file_name}: {e}\")\n",
    "    else:\n",
    "        log(f\"File not found: {file_name}\")\n",
    "\n",
    "    current_date += timedelta(days=1)\n"
   ]
  },
  {
   "cell_type": "code",
   "execution_count": null,
   "id": "bc09b5e4-b7a5-4dce-88a9-825d910c7729",
   "metadata": {},
   "outputs": [],
   "source": []
  }
 ],
 "metadata": {
  "kernelspec": {
   "display_name": "Python 3 (ipykernel)",
   "language": "python",
   "name": "python3"
  },
  "language_info": {
   "codemirror_mode": {
    "name": "ipython",
    "version": 3
   },
   "file_extension": ".py",
   "mimetype": "text/x-python",
   "name": "python",
   "nbconvert_exporter": "python",
   "pygments_lexer": "ipython3",
   "version": "3.12.7"
  }
 },
 "nbformat": 4,
 "nbformat_minor": 5
}
