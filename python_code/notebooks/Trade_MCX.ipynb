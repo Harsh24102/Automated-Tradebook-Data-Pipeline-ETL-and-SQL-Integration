{
 "cells": [
  {
   "cell_type": "code",
   "execution_count": 1,
   "id": "2ac27d89-802d-4bb4-af9c-271a716efe93",
   "metadata": {},
   "outputs": [
    {
     "name": "stdout",
     "output_type": "stream",
     "text": [
      "Copied: Trade20250701.csv\n"
     ]
    }
   ],
   "source": [
    "import os\n",
    "import shutil\n",
    "from datetime import datetime, timedelta\n",
    "\n",
    "# Configuration\n",
    "source_dir = r\"\\\\172.16.4.13\\d$\\LIVE RISK ADMIN\\MCX-SERVER\\ADMIN1\\CSV\\TradeBook\"\n",
    "destination_dir = r\"E:\\DATA\\2025-2026\\TRADEBOOK\\MCX\"\n",
    "\n",
    "# Yesterday's date\n",
    "yesterday = datetime.today() - timedelta(days=1)\n",
    "\n",
    "# Skip weekends\n",
    "if yesterday.weekday() in (5, 6):  # Saturday=5, Sunday=6\n",
    "    print(f\"Skipped weekend: {yesterday.strftime('%Y-%m-%d')}\")\n",
    "else:\n",
    "    file_name = f\"Trade{yesterday.strftime('%Y%m%d')}.csv\"\n",
    "    src_file_path = os.path.join(source_dir, file_name)\n",
    "    dst_file_path = os.path.join(destination_dir, file_name)\n",
    "\n",
    "    if os.path.exists(src_file_path):\n",
    "        if os.path.exists(dst_file_path):\n",
    "            if os.path.getsize(dst_file_path) > 0:\n",
    "                print(f\"Skipped (already exists and not empty): {file_name}\")\n",
    "            else:\n",
    "                try:\n",
    "                    shutil.copy2(src_file_path, dst_file_path)\n",
    "                    print(f\"Replaced 0 KB file: {file_name}\")\n",
    "                except Exception as e:\n",
    "                    print(f\"Error replacing file {file_name}: {e}\")\n",
    "        else:\n",
    "            try:\n",
    "                shutil.copy2(src_file_path, dst_file_path)\n",
    "                print(f\"Copied: {file_name}\")\n",
    "            except Exception as e:\n",
    "                print(f\"Error copying file {file_name}: {e}\")\n",
    "    else:\n",
    "        print(f\"File not found: {file_name}\")\n"
   ]
  },
  {
   "cell_type": "code",
   "execution_count": null,
   "id": "4d6f2c54-2d9f-46e7-9a54-a3b44cc4e001",
   "metadata": {},
   "outputs": [],
   "source": []
  }
 ],
 "metadata": {
  "kernelspec": {
   "display_name": "Python 3 (ipykernel)",
   "language": "python",
   "name": "python3"
  },
  "language_info": {
   "codemirror_mode": {
    "name": "ipython",
    "version": 3
   },
   "file_extension": ".py",
   "mimetype": "text/x-python",
   "name": "python",
   "nbconvert_exporter": "python",
   "pygments_lexer": "ipython3",
   "version": "3.12.7"
  }
 },
 "nbformat": 4,
 "nbformat_minor": 5
}
