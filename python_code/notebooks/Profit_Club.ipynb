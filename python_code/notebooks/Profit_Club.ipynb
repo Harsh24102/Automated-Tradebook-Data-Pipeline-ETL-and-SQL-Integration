{
 "cells": [
  {
   "cell_type": "code",
   "execution_count": 1,
   "id": "95f906d2-45fd-4874-8f75-293900a113f3",
   "metadata": {},
   "outputs": [],
   "source": [
    "import pandas as pd"
   ]
  },
  {
   "cell_type": "code",
   "execution_count": 1,
   "id": "c6e0b908-5e63-4214-bc25-a90fc3f20b35",
   "metadata": {},
   "outputs": [
    {
     "name": "stdout",
     "output_type": "stream",
     "text": [
      "Combined data has been saved to F:\\DATA TEAM\\Profit Club Data\\Combined_Profit_data.xlsx\n"
     ]
    }
   ],
   "source": [
    "import pandas as pd\n",
    "\n",
    "# Define the file paths\n",
    "file1_path = r\"F:\\DATA TEAM\\Profit Club Data\\Daily Int Calc - Net (ALL) - New.xlsx\"\n",
    "file2_path = r\"F:\\DATA TEAM\\Profit Club Data\\Daily Int Calc - Net (EXP) - New.xlsx\"\n",
    "file3_path = r\"F:\\DATA TEAM\\Profit Club Data\\Daily Int Calc - Net (NFT) - New.xlsx\"\n",
    "\n",
    "# Load the Excel files while ensuring date formats are preserved\n",
    "file1 = pd.read_excel(file1_path, sheet_name=\"Opt+Stk Daily Data\", parse_dates=True)\n",
    "file2 = pd.read_excel(file2_path, sheet_name=\"Opt+Stk Daily Data\", parse_dates=True)\n",
    "file3 = pd.read_excel(file3_path, sheet_name=\"Opt+Stk Daily Data\", parse_dates=True)\n",
    "\n",
    "# Select the first 7 columns of each file\n",
    "file1_data = file1.iloc[:, :7]\n",
    "file2_data = file2.iloc[:, :7]\n",
    "file3_data = file3.iloc[:, :7]\n",
    "\n",
    "# Concatenate the data from all three files\n",
    "combined_data = pd.concat([file1_data, file2_data, file3_data], ignore_index=True)\n",
    "\n",
    "# Define the output file path with the new file name\n",
    "output_file_path = r\"F:\\DATA TEAM\\Profit Club Data\\Combined_Profit_data.xlsx\"\n",
    "\n",
    "# Save the combined data to a new Excel file with the same date format\n",
    "combined_data.to_excel(output_file_path, index=False, engine=\"openpyxl\")\n",
    "\n",
    "print(f\"Combined data has been saved to {output_file_path}\")\n",
    "\n"
   ]
  },
  {
   "cell_type": "code",
   "execution_count": null,
   "id": "9027e125-e57b-4f15-acc2-8768d8178159",
   "metadata": {},
   "outputs": [],
   "source": []
  }
 ],
 "metadata": {
  "kernelspec": {
   "display_name": "Python [conda env:base] *",
   "language": "python",
   "name": "conda-base-py"
  },
  "language_info": {
   "codemirror_mode": {
    "name": "ipython",
    "version": 3
   },
   "file_extension": ".py",
   "mimetype": "text/x-python",
   "name": "python",
   "nbconvert_exporter": "python",
   "pygments_lexer": "ipython3",
   "version": "3.12.4"
  }
 },
 "nbformat": 4,
 "nbformat_minor": 5
}
