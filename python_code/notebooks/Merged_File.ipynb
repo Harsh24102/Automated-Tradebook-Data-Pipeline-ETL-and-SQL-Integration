{
 "cells": [
  {
   "cell_type": "markdown",
   "id": "0ffe8478-7c49-4fc1-b2c7-dee66051ded5",
   "metadata": {},
   "source": [
    "## Total Data Merge"
   ]
  },
  {
   "cell_type": "code",
   "execution_count": null,
   "id": "2d367bde-29e2-497e-ad9a-2621d72b77de",
   "metadata": {},
   "outputs": [],
   "source": [
    "import os\n",
    "import pandas as pd \n",
    "\n",
    "# Path to the main folder\n",
    "main_folder_path = r'F:\\BSE - NSE\\TOTAL DATA'  # Use raw string literal to handle backslashes\n",
    "\n",
    "# Initialize an empty DataFrame to hold the merged data\n",
    "merged_df = pd.DataFrame() \n",
    "\n",
    "# Function to recursively search for CSV files and merge them\n",
    "def merge_csv_files(directory):\n",
    "    global merged_df\n",
    "    # Walk through the directory tree\n",
    "    for root, dirs, files in os.walk(directory):\n",
    "        for file in files:\n",
    "            # Check if the file is a CSV file (case insensitive)\n",
    "            if file.lower().endswith('.csv'):\n",
    "                # Construct the full path to the CSV file\n",
    "                file_path = os.path.join(root, file)\n",
    "                try:\n",
    "                    # Read the CSV file into a DataFrame\n",
    "                    df = pd.read_csv(file_path)\n",
    "                    if not df.empty:  # Check if DataFrame is not empty\n",
    "                        # Append the DataFrame to the merged DataFrame\n",
    "                        merged_df = pd.concat([merged_df, df], ignore_index=True)\n",
    "                        print(f'Merged: {file_path}')  # Optional: print each file being merged\n",
    "                    else:\n",
    "                        print(f'Skipped empty file: {file_path}')\n",
    "                except pd.errors.EmptyDataError:\n",
    "                    print(f'Skipped file with empty data: {file_path}')\n",
    "                except Exception as e:\n",
    "                    print(f'Error processing file {file_path}: {e}') \n",
    "\n",
    "# Call the function to start merging CSV files\n",
    "merge_csv_files(main_folder_path) \n",
    "\n",
    "# Save the merged DataFrame to a new CSV file\n",
    "output_file_path = os.path.join(main_folder_path, 'NSE_BSE_2024-25.csv')\n",
    "merged_df.to_csv(output_file_path, index=False) \n",
    "\n",
    "print(f\"All CSV files have been merged into '{output_file_path}'\")\n"
   ]
  },
  {
   "cell_type": "markdown",
   "id": "80779220-1590-4ea5-a8b0-e93ebeab8517",
   "metadata": {},
   "source": [
    "## Monthwise Bhavcopy Merge"
   ]
  },
  {
   "cell_type": "code",
   "execution_count": 1,
   "id": "d569618b-3e8a-4f3a-a5aa-86c6193de4b6",
   "metadata": {},
   "outputs": [
    {
     "name": "stdout",
     "output_type": "stream",
     "text": [
      "Merged: F:\\BSE - NSE\\BSE + NSE\\BhavCopy_BSE_FO_0_0_0_20250401_F_0000.CSV\n",
      "Merged: F:\\BSE - NSE\\BSE + NSE\\BhavCopy_NSE_FO_0_0_0_20250401_F_0000.csv\n",
      "All CSV files have been merged into 'F:\\BSE - NSE\\BSE + NSE\\BHAVCOPY2025.csv'\n"
     ]
    }
   ],
   "source": [
    "import os\n",
    "import pandas as pd \n",
    "\n",
    "# Path to the main folder\n",
    "main_folder_path = r'F:\\BSE - NSE\\BSE + NSE'  # Use raw string literal to handle backslashes\n",
    "\n",
    "# Initialize an empty DataFrame to hold the merged data\n",
    "merged_df = pd.DataFrame() \n",
    "\n",
    "# Function to recursively search for CSV files and merge them\n",
    "def merge_csv_files(directory):\n",
    "    global merged_df\n",
    "    # Walk through the directory tree\n",
    "    for root, dirs, files in os.walk(directory):\n",
    "        for file in files:\n",
    "            # Check if the file is a CSV file (case insensitive)\n",
    "            if file.lower().endswith('.csv'):\n",
    "                # Construct the full path to the CSV file\n",
    "                file_path = os.path.join(root, file)\n",
    "                try:\n",
    "                    # Read the CSV file into a DataFrame\n",
    "                    df = pd.read_csv(file_path)\n",
    "                    if not df.empty:  # Check if DataFrame is not empty\n",
    "                        # Append the DataFrame to the merged DataFrame\n",
    "                        merged_df = pd.concat([merged_df, df], ignore_index=True)\n",
    "                        print(f'Merged: {file_path}')  # Optional: print each file being merged\n",
    "                    else:\n",
    "                        print(f'Skipped empty file: {file_path}')\n",
    "                except pd.errors.EmptyDataError:\n",
    "                    print(f'Skipped file with empty data: {file_path}')\n",
    "                except Exception as e:\n",
    "                    print(f'Error processing file {file_path}: {e}') \n",
    "\n",
    "# Call the function to start merging CSV files\n",
    "merge_csv_files(main_folder_path) \n",
    "\n",
    "# Save the merged DataFrame to a new CSV file\n",
    "output_file_path = os.path.join(main_folder_path, 'BHAVCOPY2025.csv')\n",
    "merged_df.to_csv(output_file_path, index=False) \n",
    "\n",
    "print(f\"All CSV files have been merged into '{output_file_path}'\")"
   ]
  },
  {
   "cell_type": "markdown",
   "id": "6eeeeb8d-8c6d-4bca-83d1-4d4c49d14040",
   "metadata": {},
   "source": [
    "## MCX Data merge"
   ]
  },
  {
   "cell_type": "code",
   "execution_count": 28,
   "id": "e07c4404-1f76-485f-82db-39e166847124",
   "metadata": {},
   "outputs": [
    {
     "name": "stdout",
     "output_type": "stream",
     "text": [
      "Merged: F:\\DATA TEAM\\MCX\\Cumulative\\2025\\January\\Jan\\01012025 MCX.csv\n",
      "Merged: F:\\DATA TEAM\\MCX\\Cumulative\\2025\\January\\Jan\\02012025 MCX.csv\n",
      "Merged: F:\\DATA TEAM\\MCX\\Cumulative\\2025\\January\\Jan\\03012025 MCX.csv\n",
      "Merged: F:\\DATA TEAM\\MCX\\Cumulative\\2025\\January\\Jan\\06012025 MCX.csv\n",
      "Merged: F:\\DATA TEAM\\MCX\\Cumulative\\2025\\January\\Jan\\07012025 MCX.csv\n",
      "Merged: F:\\DATA TEAM\\MCX\\Cumulative\\2025\\January\\Jan\\08012025 MCX.csv\n",
      "Merged: F:\\DATA TEAM\\MCX\\Cumulative\\2025\\January\\Jan\\09012025 MCX.csv\n",
      "Merged: F:\\DATA TEAM\\MCX\\Cumulative\\2025\\January\\Jan\\10012025 MCX.csv\n",
      "Merged: F:\\DATA TEAM\\MCX\\Cumulative\\2025\\January\\Jan\\13012025 MCX.csv\n",
      "Merged: F:\\DATA TEAM\\MCX\\Cumulative\\2025\\January\\Jan\\14012025 MCX.csv\n",
      "Merged: F:\\DATA TEAM\\MCX\\Cumulative\\2025\\January\\Jan\\15012025 MCX.csv\n",
      "Merged: F:\\DATA TEAM\\MCX\\Cumulative\\2025\\January\\Jan\\16012025 MCX.csv\n",
      "Merged: F:\\DATA TEAM\\MCX\\Cumulative\\2025\\January\\Jan\\17012025 MCX.csv\n",
      "Merged: F:\\DATA TEAM\\MCX\\Cumulative\\2025\\January\\Jan\\20012025 MCX.csv\n",
      "Merged: F:\\DATA TEAM\\MCX\\Cumulative\\2025\\January\\Jan\\21012025 MCX.csv\n",
      "Merged: F:\\DATA TEAM\\MCX\\Cumulative\\2025\\January\\Jan\\22012025 MCX.csv\n",
      "Merged: F:\\DATA TEAM\\MCX\\Cumulative\\2025\\January\\Jan\\23012025 MCX.csv\n",
      "Merged: F:\\DATA TEAM\\MCX\\Cumulative\\2025\\January\\Jan\\24012025 MCX.csv\n",
      "Merged: F:\\DATA TEAM\\MCX\\Cumulative\\2025\\January\\Jan\\27012025 MCX.csv\n",
      "Merged: F:\\DATA TEAM\\MCX\\Cumulative\\2025\\January\\Jan\\28012025 MCX.csv\n",
      "Merged: F:\\DATA TEAM\\MCX\\Cumulative\\2025\\January\\Jan\\29012025 MCX.csv\n",
      "Merged: F:\\DATA TEAM\\MCX\\Cumulative\\2025\\January\\Jan\\30012025 MCX.csv\n",
      "Merged: F:\\DATA TEAM\\MCX\\Cumulative\\2025\\January\\Jan\\31012025 MCX.csv\n",
      "All CSV files have been merged into 'F:\\DATA TEAM\\MCX\\Cumulative\\2025\\January\\Jan\\25_01.csv'\n"
     ]
    }
   ],
   "source": [
    "import os\n",
    "import pandas as pd \n",
    "\n",
    "# Path to the main folder\n",
    "main_folder_path = r'F:\\DATA TEAM\\MCX\\Cumulative\\2025\\January\\Jan'  # Use raw string literal to handle backslashes\n",
    "\n",
    "# Initialize an empty DataFrame to hold the merged data\n",
    "merged_df = pd.DataFrame() \n",
    "\n",
    "# Function to recursively search for CSV files and merge them\n",
    "def merge_csv_files(directory):\n",
    "    global merged_df\n",
    "    # Walk through the directory tree\n",
    "    for root, dirs, files in os.walk(directory):\n",
    "        for file in files:\n",
    "            # Check if the file is a CSV file (case insensitive)\n",
    "            if file.lower().endswith('.csv'):\n",
    "                # Construct the full path to the CSV file\n",
    "                file_path = os.path.join(root, file)\n",
    "                try:\n",
    "                    # Read the CSV file into a DataFrame\n",
    "                    df = pd.read_csv(file_path)\n",
    "                    if not df.empty:  # Check if DataFrame is not empty\n",
    "                        # Append the DataFrame to the merged DataFrame\n",
    "                        merged_df = pd.concat([merged_df, df], ignore_index=True)\n",
    "                        print(f'Merged: {file_path}')  # Optional: print each file being merged\n",
    "                    else:\n",
    "                        print(f'Skipped empty file: {file_path}')\n",
    "                except pd.errors.EmptyDataError:\n",
    "                    print(f'Skipped file with empty data: {file_path}')\n",
    "                except Exception as e:\n",
    "                    print(f'Error processing file {file_path}: {e}') \n",
    "\n",
    "# Call the function to start merging CSV files\n",
    "merge_csv_files(main_folder_path) \n",
    "\n",
    "# Save the merged DataFrame to a new CSV file\n",
    "output_file_path = os.path.join(main_folder_path, '25_01.csv')\n",
    "merged_df.to_csv(output_file_path, index=False) \n",
    "\n",
    "print(f\"All CSV files have been merged into '{output_file_path}'\")"
   ]
  },
  {
   "cell_type": "markdown",
   "id": "96e8c7de-d06d-4637-b53f-451922521ebd",
   "metadata": {},
   "source": [
    "## MCX Total Data Merge"
   ]
  },
  {
   "cell_type": "code",
   "execution_count": 30,
   "id": "47259b5e-5e2c-4220-984e-f2f0604aac78",
   "metadata": {},
   "outputs": [
    {
     "name": "stdout",
     "output_type": "stream",
     "text": [
      "Merged: F:\\DATA TEAM\\MCX\\Cumulative\\Total Data MCX\\10.csv\n",
      "Merged: F:\\DATA TEAM\\MCX\\Cumulative\\Total Data MCX\\11.csv\n",
      "Merged: F:\\DATA TEAM\\MCX\\Cumulative\\Total Data MCX\\12.csv\n",
      "Merged: F:\\DATA TEAM\\MCX\\Cumulative\\Total Data MCX\\25_01.csv\n",
      "Merged: F:\\DATA TEAM\\MCX\\Cumulative\\Total Data MCX\\4.csv\n",
      "Merged: F:\\DATA TEAM\\MCX\\Cumulative\\Total Data MCX\\5.csv\n",
      "Merged: F:\\DATA TEAM\\MCX\\Cumulative\\Total Data MCX\\6.csv\n",
      "Merged: F:\\DATA TEAM\\MCX\\Cumulative\\Total Data MCX\\7.csv\n",
      "Merged: F:\\DATA TEAM\\MCX\\Cumulative\\Total Data MCX\\8.csv\n",
      "Merged: F:\\DATA TEAM\\MCX\\Cumulative\\Total Data MCX\\9.csv\n",
      "All CSV files have been merged into 'F:\\DATA TEAM\\MCX\\Cumulative\\Total Data MCX\\Data_24-25_MCX.csv'\n"
     ]
    }
   ],
   "source": [
    "import os\n",
    "import pandas as pd \n",
    "\n",
    "# Path to the main folder\n",
    "main_folder_path = r'F:\\DATA TEAM\\MCX\\Cumulative\\Total Data MCX'  # Use raw string literal to handle backslashes\n",
    "\n",
    "# Initialize an empty DataFrame to hold the merged data\n",
    "merged_df = pd.DataFrame() \n",
    "\n",
    "# Function to recursively search for CSV files and merge them\n",
    "def merge_csv_files(directory):\n",
    "    global merged_df\n",
    "    # Walk through the directory tree\n",
    "    for root, dirs, files in os.walk(directory):\n",
    "        for file in files:\n",
    "            # Check if the file is a CSV file (case insensitive)\n",
    "            if file.lower().endswith('.csv'):\n",
    "                # Construct the full path to the CSV file\n",
    "                file_path = os.path.join(root, file)\n",
    "                try:\n",
    "                    # Read the CSV file into a DataFrame\n",
    "                    df = pd.read_csv(file_path)\n",
    "                    if not df.empty:  # Check if DataFrame is not empty\n",
    "                        # Append the DataFrame to the merged DataFrame\n",
    "                        merged_df = pd.concat([merged_df, df], ignore_index=True)\n",
    "                        print(f'Merged: {file_path}')  # Optional: print each file being merged\n",
    "                    else:\n",
    "                        print(f'Skipped empty file: {file_path}')\n",
    "                except pd.errors.EmptyDataError:\n",
    "                    print(f'Skipped file with empty data: {file_path}')\n",
    "                except Exception as e:\n",
    "                    print(f'Error processing file {file_path}: {e}') \n",
    "\n",
    "# Call the function to start merging CSV files\n",
    "merge_csv_files(main_folder_path) \n",
    "\n",
    "# Save the merged DataFrame to a new CSV file\n",
    "output_file_path = os.path.join(main_folder_path, 'Data_24_25_MCX.csv')\n",
    "merged_df.to_csv(output_file_path, index=False) \n",
    "\n",
    "print(f\"All CSV files have been merged into '{output_file_path}'\")"
   ]
  },
  {
   "cell_type": "code",
   "execution_count": null,
   "id": "180917c9-1c50-4781-a317-110db01c2950",
   "metadata": {},
   "outputs": [],
   "source": []
  }
 ],
 "metadata": {
  "kernelspec": {
   "display_name": "Python 3 (ipykernel)",
   "language": "python",
   "name": "python3"
  },
  "language_info": {
   "codemirror_mode": {
    "name": "ipython",
    "version": 3
   },
   "file_extension": ".py",
   "mimetype": "text/x-python",
   "name": "python",
   "nbconvert_exporter": "python",
   "pygments_lexer": "ipython3",
   "version": "3.12.7"
  }
 },
 "nbformat": 4,
 "nbformat_minor": 5
}
