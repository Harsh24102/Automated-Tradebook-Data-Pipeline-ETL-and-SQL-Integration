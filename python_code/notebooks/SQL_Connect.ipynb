{
 "cells": [
  {
   "cell_type": "code",
   "execution_count": 11,
   "id": "2ba91e7b-03b1-4023-853c-eb4ff6537690",
   "metadata": {},
   "outputs": [
    {
     "name": "stdout",
     "output_type": "stream",
     "text": [
      "Attempting to connect to SQL Server...\n",
      "Connection or query execution failed!\n",
      "Error Code: 28000\n",
      "Error Message: [28000] [Microsoft][ODBC Driver 17 for SQL Server][SQL Server]Login failed for user 'AG-SERVER-064\\USER05'. (18456) (SQLDriverConnect); [28000] [Microsoft][ODBC Driver 17 for SQL Server][SQL Server]Login failed for user 'AG-SERVER-064\\USER05'. (18456)\n"
     ]
    }
   ],
   "source": [
    "import pyodbc\n",
    "import pandas as pd\n",
    "\n",
    "# Connection string with a potentially newer ODBC driver\n",
    "connection_string = (\n",
    "    \"DRIVER={ODBC Driver 17 for SQL Server};\"\n",
    "    \"SERVER=AG-SERVER-064;\"\n",
    "    \"DATABASE=harsh_data;\"\n",
    "    \"Trusted_Connection=yes;\"\n",
    "    \"MARS_Connection=yes;\"  # Optional, based on your needs\n",
    ")\n",
    "\n",
    "\n",
    "# Attempt to connect to the database and run a query\n",
    "try:\n",
    "    print(\"Attempting to connect to SQL Server...\")\n",
    "    with pyodbc.connect(connection_string) as connection:\n",
    "        print(\"Connected to SQL Server\")\n",
    "        \n",
    "        # A basic query to test the connection\n",
    "        query = \"SELECT * FROM Tradebook_Apr;\"\n",
    "        \n",
    "        # Read the SQL query output directly into a DataFrame\n",
    "        df = pd.read_sql_query(query, connection)\n",
    "        \n",
    "        # Display the DataFrame\n",
    "        print(\"Query Output as DataFrame:\")\n",
    "        print(df)\n",
    "        \n",
    "except pyodbc.Error as ex:\n",
    "    print(\"Connection or query execution failed!\")\n",
    "    \n",
    "    # Improved error handling\n",
    "    sqlstate = ex.args[0] if len(ex.args) > 0 else \"Unknown SQL State\"\n",
    "    message = ex.args[1] if len(ex.args) > 1 else \"No additional error message provided\"\n",
    "    \n",
    "    print(f\"Error Code: {sqlstate}\")\n",
    "    print(f\"Error Message: {message}\")\n",
    "\n",
    "except Exception as e:\n",
    "    print(\"An unexpected error occurred.\")\n",
    "    print(f\"Error: {e}\")\n"
   ]
  },
  {
   "cell_type": "code",
   "execution_count": null,
   "id": "da53c91d-7b4f-4be8-816f-d98e6ad451a5",
   "metadata": {},
   "outputs": [],
   "source": []
  }
 ],
 "metadata": {
  "kernelspec": {
   "display_name": "Python 3 (ipykernel)",
   "language": "python",
   "name": "python3"
  },
  "language_info": {
   "codemirror_mode": {
    "name": "ipython",
    "version": 3
   },
   "file_extension": ".py",
   "mimetype": "text/x-python",
   "name": "python",
   "nbconvert_exporter": "python",
   "pygments_lexer": "ipython3",
   "version": "3.12.4"
  }
 },
 "nbformat": 4,
 "nbformat_minor": 5
}
