{
 "cells": [
  {
   "cell_type": "markdown",
   "id": "0509a0ec-5075-4210-8b81-02ca9903ace0",
   "metadata": {},
   "source": [
    "### Convert to CSV"
   ]
  },
  {
   "cell_type": "code",
   "execution_count": null,
   "id": "fc61d09a-caac-46a9-96ba-57d408be6e57",
   "metadata": {},
   "outputs": [],
   "source": [
    "import os\n",
    "import pandas as pd\n",
    "\n",
    "def convert_file_to_csv(file_path, csv_file_path):\n",
    "    try:\n",
    "        # Attempt to read the file as an Excel file\n",
    "        if file_path.endswith('.xls') or file_path.endswith('.xlsx'):\n",
    "            df = pd.read_excel(file_path, engine='openpyxl' if file_path.endswith('.xlsx') else 'xlrd')\n",
    "        else:\n",
    "            df = pd.read_csv(file_path, sep='\\t')  # In case it's tab-separated\n",
    "\n",
    "        # Save to CSV\n",
    "        df.to_csv(csv_file_path, index=False)\n",
    "        print(f\"Converted {file_path} to {csv_file_path} as Excel\")\n",
    "    except Exception as e:\n",
    "        print(f\"Failed to convert {file_path} as Excel: {e}\")\n",
    "        \n",
    "        # Try reading as an HTML file if it contains web page data\n",
    "        try:\n",
    "            df = pd.read_html(file_path)[0]  # Read the first table\n",
    "            df.to_csv(csv_file_path, index=False)\n",
    "            print(f\"Converted {file_path} to {csv_file_path} as HTML\")\n",
    "        except Exception as e:\n",
    "            print(f\"Failed to convert {file_path} as HTML: {e}\")\n",
    "\n",
    "def convert_excel_to_csv(folder_path):\n",
    "    # Walk through the directory\n",
    "    for root, dirs, files in os.walk(folder_path):\n",
    "        for file in files:\n",
    "            # Check for Excel file extensions\n",
    "            if file.endswith('.xls') or file.endswith('.xlsx') or file.endswith('.html'):\n",
    "                # Define the full path to the file\n",
    "                file_path = os.path.join(root, file)\n",
    "                \n",
    "                # Define the CSV file path\n",
    "                csv_file_path = os.path.join(root, f\"{os.path.splitext(file)[0]}.csv\")\n",
    "                \n",
    "                # Attempt conversion\n",
    "                convert_file_to_csv(file_path, csv_file_path)\n",
    "\n",
    "# Correct folder path assignment\n",
    "folder_path = r'F:\\DATA TEAM\\Cumulative Data\\June\\JUNE'  # Path to your folder\n",
    "\n",
    "# Convert files in the specified folder\n",
    "convert_excel_to_csv(folder_path)\n"
   ]
  }
 ],
 "metadata": {
  "kernelspec": {
   "display_name": "Python 3 (ipykernel)",
   "language": "python",
   "name": "python3"
  },
  "language_info": {
   "codemirror_mode": {
    "name": "ipython",
    "version": 3
   },
   "file_extension": ".py",
   "mimetype": "text/x-python",
   "name": "python",
   "nbconvert_exporter": "python",
   "pygments_lexer": "ipython3",
   "version": "3.12.4"
  }
 },
 "nbformat": 4,
 "nbformat_minor": 5
}
