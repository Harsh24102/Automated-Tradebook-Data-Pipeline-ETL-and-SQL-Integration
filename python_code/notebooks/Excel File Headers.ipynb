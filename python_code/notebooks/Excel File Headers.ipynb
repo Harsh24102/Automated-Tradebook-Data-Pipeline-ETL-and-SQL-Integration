{
 "cells": [
  {
   "cell_type": "code",
   "execution_count": 9,
   "id": "da53c91d-7b4f-4be8-816f-d98e6ad451a5",
   "metadata": {},
   "outputs": [
    {
     "name": "stdout",
     "output_type": "stream",
     "text": [
      "Processing: F_CN01_NSE_22052025.CSV\n",
      "  ✅ Headers added to: F_CN01_NSE_22052025.CSV\n",
      "✅ All matching files processed.\n"
     ]
    }
   ],
   "source": [
    "import csv\n",
    "import os\n",
    "\n",
    "# Folder path where files are stored\n",
    "folder_path = r\"E:\\Back-Up Files\\Harsh\\MS File\"\n",
    "\n",
    "# Header to add\n",
    "headers = [\n",
    "    \"TradeDate\", \"Contract Instrument Type\", \"Symbol\", \"ExpiryDate\", \"StrikePrice\",\n",
    "    \"OptionType\", \"Corporate Action Level\", \"Contract Regular Lot\", \"Contract Issue StartDate\",\n",
    "    \"Contract Issue Maturity Date\", \"Contract Exercide StratDate\", \"Contract exercide End Date\",\n",
    "    \"Contract exercise Style\", \"Contract Active MarketType\", \"Open\", \"High\", \"Low\", \"ClosePrice\",\n",
    "    \"SettlementPrice\", \"UnderlyingPrice\", \"Instrument Type\", \"Underlying Symbol\", \"Underlying Series\"\n",
    "]\n",
    "\n",
    "# Loop through all matching files\n",
    "for filename in os.listdir(folder_path):\n",
    "    if filename.startswith(\"F_CN01_NSE_\"):\n",
    "        file_path = os.path.join(folder_path, filename)\n",
    "        print(f\"Processing: {filename}\")\n",
    "\n",
    "        # Read original content\n",
    "        with open(file_path, \"r\", newline='', encoding='utf-8') as infile:\n",
    "            reader = csv.reader(infile, delimiter='\\t')\n",
    "            rows = list(reader)\n",
    "\n",
    "        # If first row is already a header (e.g. contains 'TradeDate'), skip adding again\n",
    "        if rows and rows[0] == headers:\n",
    "            print(f\"  ➤ Headers already present in {filename}, skipping.\")\n",
    "            continue\n",
    "\n",
    "        # Write the new file (overwrite original)\n",
    "        with open(file_path, \"w\", newline='', encoding='utf-8') as outfile:\n",
    "            writer = csv.writer(outfile, delimiter='\\t')\n",
    "            writer.writerow(headers)\n",
    "            writer.writerows(rows)\n",
    "\n",
    "        print(f\"  ✅ Headers added to: {filename}\")\n",
    "\n",
    "print(\"✅ All matching files processed.\")\n"
   ]
  },
  {
   "cell_type": "code",
   "execution_count": null,
   "id": "b0ffe5d3-932c-4ef9-8c3d-a453769f4b1f",
   "metadata": {},
   "outputs": [],
   "source": []
  }
 ],
 "metadata": {
  "kernelspec": {
   "display_name": "Python 3 (ipykernel)",
   "language": "python",
   "name": "python3"
  },
  "language_info": {
   "codemirror_mode": {
    "name": "ipython",
    "version": 3
   },
   "file_extension": ".py",
   "mimetype": "text/x-python",
   "name": "python",
   "nbconvert_exporter": "python",
   "pygments_lexer": "ipython3",
   "version": "3.12.7"
  }
 },
 "nbformat": 4,
 "nbformat_minor": 5
}
