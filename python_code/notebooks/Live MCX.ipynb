{
 "cells": [
  {
   "cell_type": "code",
   "execution_count": 1,
   "id": "278ae39b-b45f-4c1d-a072-d2f3dd75ad65",
   "metadata": {},
   "outputs": [
    {
     "name": "stdout",
     "output_type": "stream",
     "text": [
      "[10:33:38] Starting file monitor...\n",
      "[10:33:38] Source file not found: Trade20250702.csv. Stopping monitor.\n"
     ]
    }
   ],
   "source": [
    "import os\n",
    "import shutil\n",
    "import time\n",
    "from datetime import datetime, timedelta\n",
    "\n",
    "# Configuration\n",
    "source_dir = r\"\\\\172.16.4.13\\d$\\LIVE RISK ADMIN\\MCX-SERVER\\ADMIN1\\CSV\\TradeBook\"\n",
    "destination_dir = r\"E:\\DATA\\2025-2026\\TRADEBOOK\\MCX\"\n",
    "check_interval = 300  # seconds between checks (5 minutes)\n",
    "\n",
    "def is_market_open():\n",
    "    now = datetime.now()\n",
    "\n",
    "    # Skip weekends: 5 = Saturday, 6 = Sunday\n",
    "    if now.weekday() >= 5:\n",
    "        return False\n",
    "\n",
    "    # Market starts at 9:00 AM\n",
    "    market_start = now.replace(hour=9, minute=0, second=0, microsecond=0)\n",
    "\n",
    "    # Determine seasonal closing times\n",
    "    # Summer: April (4) to September (9) - closes at 11:30 PM\n",
    "    # Winter: October (10) to March (3) - closes at 12:00 AM (midnight)\n",
    "    if now.month in [4, 5, 6, 7, 8, 9]:\n",
    "        market_end = now.replace(hour=23, minute=59, second=55, microsecond=0)\n",
    "    else:\n",
    "        # Midnight of the next day\n",
    "        market_end = (now + timedelta(days=1)).replace(hour=0, minute=0, second=0, microsecond=0)\n",
    "\n",
    "    return market_start <= now <= market_end\n",
    "\n",
    "def get_today_file_paths():\n",
    "    # Use the correct date for the filename based on time\n",
    "    if datetime.now().hour < 9:\n",
    "        file_date = datetime.now() - timedelta(days=1)\n",
    "    else:\n",
    "        file_date = datetime.now()\n",
    "\n",
    "    file_name = f\"Trade{file_date.strftime('%Y%m%d')}.csv\"\n",
    "    return (\n",
    "        os.path.join(source_dir, file_name),\n",
    "        os.path.join(destination_dir, file_name),\n",
    "        file_name\n",
    "    )\n",
    "\n",
    "# Track previous file size\n",
    "previous_size = -1\n",
    "print(f\"[{datetime.now().strftime('%H:%M:%S')}] Starting file monitor...\")\n",
    "\n",
    "while True:\n",
    "    if not is_market_open():\n",
    "        print(f\"[{datetime.now().strftime('%H:%M:%S')}] Market is closed or it's a weekend. Exiting monitor.\")\n",
    "        break\n",
    "\n",
    "    src_file, dst_file, file_name = get_today_file_paths()\n",
    "\n",
    "    if not os.path.exists(src_file):\n",
    "        print(f\"[{datetime.now().strftime('%H:%M:%S')}] Source file not found: {file_name}. Stopping monitor.\")\n",
    "        break\n",
    "\n",
    "    current_size = os.path.getsize(src_file)\n",
    "\n",
    "    if current_size != previous_size:\n",
    "        try:\n",
    "            shutil.copy2(src_file, dst_file)\n",
    "            print(f\"[{datetime.now().strftime('%H:%M:%S')}] Copied/Updated: {file_name} (Size: {current_size} bytes)\")\n",
    "            previous_size = current_size\n",
    "        except Exception as e:\n",
    "            print(f\"[{datetime.now().strftime('%H:%M:%S')}] Error copying file: {e}\")\n",
    "    else:\n",
    "        print(f\"[{datetime.now().strftime('%H:%M:%S')}] No change in file: {file_name}\")\n",
    "\n",
    "    time.sleep(check_interval)\n"
   ]
  },
  {
   "cell_type": "code",
   "execution_count": null,
   "id": "dd800226-1046-45fe-80b1-84be19f245d7",
   "metadata": {},
   "outputs": [],
   "source": []
  }
 ],
 "metadata": {
  "kernelspec": {
   "display_name": "Python 3 (ipykernel)",
   "language": "python",
   "name": "python3"
  },
  "language_info": {
   "codemirror_mode": {
    "name": "ipython",
    "version": 3
   },
   "file_extension": ".py",
   "mimetype": "text/x-python",
   "name": "python",
   "nbconvert_exporter": "python",
   "pygments_lexer": "ipython3",
   "version": "3.12.7"
  }
 },
 "nbformat": 4,
 "nbformat_minor": 5
}
