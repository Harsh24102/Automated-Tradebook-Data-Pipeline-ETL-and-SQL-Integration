{
 "cells": [
  {
   "cell_type": "markdown",
   "id": "e4c31fd6-4eab-4bd6-87fc-1c95dd2b2cd6",
   "metadata": {},
   "source": [
    "## Headers For Client Code"
   ]
  },
  {
   "cell_type": "code",
   "execution_count": 1,
   "id": "0e8e7a4b-c07c-4107-b9a7-34c6d0002888",
   "metadata": {},
   "outputs": [
    {
     "name": "stdout",
     "output_type": "stream",
     "text": [
      "Updated CSV saved at: C:\\Users\\DATA05\\Desktop\\Client Code (Opt + Stk).csv\n"
     ]
    }
   ],
   "source": [
    "import pandas as pd\n",
    "\n",
    "# Define the file path\n",
    "file_path = r\"C:\\Users\\DATA05\\Desktop\\Client Code (Opt + Stk).csv\"\n",
    "\n",
    "# Define the headers\n",
    "headers = [\"ClientID\", \"Token\", \"Exchange\", \"SecurityType\", \"ExchangeTradeTime\", \"Category\"]\n",
    "\n",
    "# Read the CSV without headers\n",
    "df = pd.read_csv(file_path, header=None)\n",
    "\n",
    "# Assign headers\n",
    "df.columns = headers\n",
    "\n",
    "# Save the updated file\n",
    "output_path = r\"C:\\Users\\DATA05\\Desktop\\Client Code (Opt + Stk).csv\"\n",
    "df.to_csv(output_path, index=False)\n",
    "\n",
    "print(f\"Updated CSV saved at: {output_path}\")"
   ]
  },
  {
   "cell_type": "markdown",
   "id": "2ba3ed22-81b8-4d16-b864-32ce7316d226",
   "metadata": {},
   "source": [
    "## Headers For Client Code with No. of rows"
   ]
  },
  {
   "cell_type": "code",
   "execution_count": 1,
   "id": "d294d50d-decd-4502-ab81-6b7d92486187",
   "metadata": {},
   "outputs": [
    {
     "name": "stdout",
     "output_type": "stream",
     "text": [
      "Updated CSV saved at: C:\\Users\\DATA05\\Desktop\\Client Code (Opt + Stk).csv\n",
      "Total number of rows: 1077099\n"
     ]
    }
   ],
   "source": [
    "import pandas as pd\n",
    "\n",
    "# Define the file path\n",
    "file_path = r\"C:\\Users\\DATA05\\Desktop\\Client Code (Opt + Stk).csv\"\n",
    "\n",
    "# Define the headers\n",
    "headers = [\"ClientID\", \"Token\", \"Exchange\", \"SecurityType\", \"ExchangeTradeTime\", \"Category\"]\n",
    "\n",
    "# Read the CSV without headers\n",
    "df = pd.read_csv(file_path, header=None)\n",
    "\n",
    "# Assign headers\n",
    "df.columns = headers\n",
    "\n",
    "# Get the total number of rows (excluding header)\n",
    "total_rows = df.shape[0]\n",
    "\n",
    "# Save the updated file\n",
    "output_path = r\"C:\\Users\\DATA05\\Desktop\\Client Code (Opt + Stk).csv\"\n",
    "df.to_csv(output_path, index=False)\n",
    "\n",
    "print(f\"Updated CSV saved at: {output_path}\")\n",
    "print(f\"Total number of rows: {total_rows}\")"
   ]
  },
  {
   "cell_type": "markdown",
   "id": "4017dcb1-1758-4a7c-bed8-afcf46d66931",
   "metadata": {},
   "source": [
    "### Headers for Club File"
   ]
  },
  {
   "cell_type": "code",
   "execution_count": 17,
   "id": "0dab4ed6-31a3-4d6d-a6a0-9fd2a24b7771",
   "metadata": {},
   "outputs": [
    {
     "name": "stdout",
     "output_type": "stream",
     "text": [
      "Updated CSV saved at: C:\\Users\\DATA05\\Desktop\\Club_19_New.csv\n",
      "Total number of rows: 1105044\n"
     ]
    }
   ],
   "source": [
    "import pandas as pd\n",
    "\n",
    "# Define the file path\n",
    "file_path = r\"C:\\Users\\DATA05\\Desktop\\Club_19_New.csv\"\n",
    "\n",
    "# Define the new headers\n",
    "headers = [\n",
    "    \"CLIENT_ID\", \"COMPANY_CODE\", \"SCRIP_SYMBOL\", \"NET_QUANTITY\", \"NET_RATE\", \n",
    "    \"NET_AMOUNT\", \"CLOSING_PRICE\", \"NOT_PROFIT\", \"TRADING_QUANTITY\", \n",
    "    \"TRADING_AMOUNT\", \"BUY_QUANTITY\", \"BUY_RATE\", \"BUY_AMOUNT\", \n",
    "    \"SALE_QUANTITY\", \"SALE_RATE\", \"SALE_AMOUNT\", \"TradeDate\"\n",
    "]\n",
    "\n",
    "# Read the CSV without headers\n",
    "df = pd.read_csv(file_path, header=None)\n",
    "\n",
    "# Assign new headers\n",
    "df.columns = headers\n",
    "\n",
    "# Get the total number of rows (excluding header)\n",
    "total_rows = df.shape[0]\n",
    "\n",
    "# Save the updated file\n",
    "output_path = r\"C:\\Users\\DATA05\\Desktop\\Club_19_New.csv\"\n",
    "\n",
    "df.to_csv(output_path, index=False)\n",
    "\n",
    "print(f\"Updated CSV saved at: {output_path}\")\n",
    "print(f\"Total number of rows: {total_rows}\")\n"
   ]
  },
  {
   "cell_type": "code",
   "execution_count": null,
   "id": "c3e38617-84f1-4fe0-b3b7-75c4b7fbae14",
   "metadata": {},
   "outputs": [],
   "source": []
  }
 ],
 "metadata": {
  "kernelspec": {
   "display_name": "Python 3 (ipykernel)",
   "language": "python",
   "name": "python3"
  },
  "language_info": {
   "codemirror_mode": {
    "name": "ipython",
    "version": 3
   },
   "file_extension": ".py",
   "mimetype": "text/x-python",
   "name": "python",
   "nbconvert_exporter": "python",
   "pygments_lexer": "ipython3",
   "version": "3.12.7"
  }
 },
 "nbformat": 4,
 "nbformat_minor": 5
}
