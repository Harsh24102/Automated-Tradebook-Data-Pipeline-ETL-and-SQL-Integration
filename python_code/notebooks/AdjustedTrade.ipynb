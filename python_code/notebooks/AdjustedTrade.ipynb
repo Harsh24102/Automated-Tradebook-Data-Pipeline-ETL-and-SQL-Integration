{
 "cells": [
  {
   "cell_type": "code",
   "execution_count": null,
   "id": "80d4f6ab-57cd-447e-a42a-5cb6e11ff3d3",
   "metadata": {},
   "outputs": [],
   "source": [
    "import pandas as pd\n",
    "\n",
    "# Load the data from the source CSV file\n",
    "source_file = 'Table227.csv'  # Path to your source CSV file\n",
    "data_to_append = pd.read_csv(source_file)\n",
    "\n",
    "# Check if the backup file exists and load it; if not, create an empty DataFrame\n",
    "backup_file = 'BackupTM227.csv'\n",
    "try:\n",
    "    backup_data = pd.read_csv(backup_file)\n",
    "except FileNotFoundError:\n",
    "    backup_data = pd.DataFrame()  # Create an empty DataFrame if the backup file doesn't exist\n",
    "\n",
    "# Append the new data to the backup data\n",
    "updated_backup_data = pd.concat([backup_data, data_to_append], ignore_index=True)\n",
    "\n",
    "# Save the updated data back to the backup file\n",
    "updated_backup_data.to_csv(backup_file, index=False)\n",
    "\n",
    "print(\"Data successfully appended to BackupTM227.csv.\")\n",
    "\n"
   ]
  }
 ],
 "metadata": {
  "kernelspec": {
   "display_name": "Python 3 (ipykernel)",
   "language": "python",
   "name": "python3"
  },
  "language_info": {
   "codemirror_mode": {
    "name": "ipython",
    "version": 3
   },
   "file_extension": ".py",
   "mimetype": "text/x-python",
   "name": "python",
   "nbconvert_exporter": "python",
   "pygments_lexer": "ipython3",
   "version": "3.12.4"
  }
 },
 "nbformat": 4,
 "nbformat_minor": 5
}
