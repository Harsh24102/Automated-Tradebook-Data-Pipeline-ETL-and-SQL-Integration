{
 "cells": [
  {
   "cell_type": "code",
   "execution_count": 1,
   "id": "1f315e71-db83-4d17-92e9-cfbb5c76ba67",
   "metadata": {},
   "outputs": [
    {
     "name": "stdout",
     "output_type": "stream",
     "text": [
      "\n",
      "📆 Processing files for today's date: 25062025\n",
      "⚠️ File not found: FO_BSE_25062025.csv\n",
      "✅ Included: FO_NSE_25062025.csv\n",
      "⚠️ File not found: EQ_BSE_25062025.csv\n",
      "✅ Included: EQ_NSE_25062025.csv\n",
      "⚠️ File not found: CU_BSE_25062025.csv\n",
      "⚠️ File not found: CU_NSE_25062025.csv\n",
      "📁 Merged file saved (2 file(s) merged): MergeGreek25062025.csv\n"
     ]
    }
   ],
   "source": [
    "import os\n",
    "import pandas as pd\n",
    "from datetime import datetime\n",
    "\n",
    "# === Config ===\n",
    "source_folder = r\"E:\\DATA\\2025-2026\\GREEK TRADEBOOK\"\n",
    "output_folder = r\"E:\\DATA\\2025-2026\\MERGE_TRADEBOOK\\MERGE_GREEK\"\n",
    "\n",
    "segments = [\"FO\", \"EQ\", \"CU\"]\n",
    "exchanges = [\"BSE\", \"NSE\"]\n",
    "\n",
    "# === Get today's date in DDMMYYYY format ===\n",
    "today_str = datetime.today().strftime(\"%d%m%Y\")\n",
    "dfs = []\n",
    "\n",
    "print(f\"\\n📆 Processing files for today's date: {today_str}\")\n",
    "\n",
    "# === Loop through each segment-exchange combination ===\n",
    "for segment in segments:\n",
    "    for exchange in exchanges:\n",
    "        filename = f\"{segment}_{exchange}_{today_str}.csv\"\n",
    "        file_path = os.path.join(source_folder, filename)\n",
    "        if os.path.exists(file_path):\n",
    "            try:\n",
    "                df = pd.read_csv(file_path, encoding=\"utf-8\")\n",
    "                df.insert(0, \"SourceFile\", filename)  # Optional: track source file\n",
    "                dfs.append(df)\n",
    "                print(f\"✅ Included: {filename}\")\n",
    "            except Exception as e:\n",
    "                print(f\"❌ Error reading {filename}: {e}\")\n",
    "        else:\n",
    "            print(f\"⚠️ File not found: {filename}\")\n",
    "\n",
    "# === Merge and save output if any files were read ===\n",
    "if dfs:\n",
    "    try:\n",
    "        combined_df = pd.concat(dfs, ignore_index=True)\n",
    "        output_filename = f\"MergeGreek{today_str}.csv\"\n",
    "        output_path = os.path.join(output_folder, output_filename)\n",
    "        os.makedirs(output_folder, exist_ok=True)\n",
    "        combined_df.to_csv(output_path, index=False, encoding=\"utf-8\")\n",
    "        print(f\"📁 Merged file saved ({len(dfs)} file(s) merged): {output_filename}\")\n",
    "    except Exception as e:\n",
    "        print(f\"❌ Error while merging or saving: {e}\")\n",
    "else:\n",
    "    print(f\"⛔ No valid files found to merge for today ({today_str})\")\n"
   ]
  },
  {
   "cell_type": "code",
   "execution_count": null,
   "id": "f4b5070c-f1bf-4e18-826d-9ba26551d21a",
   "metadata": {},
   "outputs": [],
   "source": []
  }
 ],
 "metadata": {
  "kernelspec": {
   "display_name": "Python 3 (ipykernel)",
   "language": "python",
   "name": "python3"
  },
  "language_info": {
   "codemirror_mode": {
    "name": "ipython",
    "version": 3
   },
   "file_extension": ".py",
   "mimetype": "text/x-python",
   "name": "python",
   "nbconvert_exporter": "python",
   "pygments_lexer": "ipython3",
   "version": "3.12.7"
  }
 },
 "nbformat": 4,
 "nbformat_minor": 5
}
